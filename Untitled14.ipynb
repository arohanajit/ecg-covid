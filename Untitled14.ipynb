{
  "nbformat": 4,
  "nbformat_minor": 0,
  "metadata": {
    "colab": {
      "name": "Untitled14.ipynb",
      "provenance": [],
      "authorship_tag": "ABX9TyMlRbJG2c6CFIa+RgdM7AeC",
      "include_colab_link": true
    },
    "kernelspec": {
      "name": "python3",
      "display_name": "Python 3"
    },
    "language_info": {
      "name": "python"
    },
    "accelerator": "GPU",
    "widgets": {
      "application/vnd.jupyter.widget-state+json": {
        "abcf4125cf464812a45f811cd2f20f64": {
          "model_module": "@jupyter-widgets/controls",
          "model_name": "HBoxModel",
          "state": {
            "_view_name": "HBoxView",
            "_dom_classes": [],
            "_model_name": "HBoxModel",
            "_view_module": "@jupyter-widgets/controls",
            "_model_module_version": "1.5.0",
            "_view_count": null,
            "_view_module_version": "1.5.0",
            "box_style": "",
            "layout": "IPY_MODEL_fa1f9a41ec574bedbf4f17e50ceec1c3",
            "_model_module": "@jupyter-widgets/controls",
            "children": [
              "IPY_MODEL_a5c0f58d8660403abf6eb7a2b57a68ff",
              "IPY_MODEL_3dfb878229c24f39b97e37efa7fdd8af"
            ]
          }
        },
        "fa1f9a41ec574bedbf4f17e50ceec1c3": {
          "model_module": "@jupyter-widgets/base",
          "model_name": "LayoutModel",
          "state": {
            "_view_name": "LayoutView",
            "grid_template_rows": null,
            "right": null,
            "justify_content": null,
            "_view_module": "@jupyter-widgets/base",
            "overflow": null,
            "_model_module_version": "1.2.0",
            "_view_count": null,
            "flex_flow": null,
            "width": null,
            "min_width": null,
            "border": null,
            "align_items": null,
            "bottom": null,
            "_model_module": "@jupyter-widgets/base",
            "top": null,
            "grid_column": null,
            "overflow_y": null,
            "overflow_x": null,
            "grid_auto_flow": null,
            "grid_area": null,
            "grid_template_columns": null,
            "flex": null,
            "_model_name": "LayoutModel",
            "justify_items": null,
            "grid_row": null,
            "max_height": null,
            "align_content": null,
            "visibility": null,
            "align_self": null,
            "height": null,
            "min_height": null,
            "padding": null,
            "grid_auto_rows": null,
            "grid_gap": null,
            "max_width": null,
            "order": null,
            "_view_module_version": "1.2.0",
            "grid_template_areas": null,
            "object_position": null,
            "object_fit": null,
            "grid_auto_columns": null,
            "margin": null,
            "display": null,
            "left": null
          }
        },
        "a5c0f58d8660403abf6eb7a2b57a68ff": {
          "model_module": "@jupyter-widgets/controls",
          "model_name": "FloatProgressModel",
          "state": {
            "_view_name": "ProgressView",
            "style": "IPY_MODEL_fa686be7ae3241e6a6668ff1640939cd",
            "_dom_classes": [],
            "description": "  0%",
            "_model_name": "FloatProgressModel",
            "bar_style": "",
            "max": 3,
            "_view_module": "@jupyter-widgets/controls",
            "_model_module_version": "1.5.0",
            "value": 0,
            "_view_count": null,
            "_view_module_version": "1.5.0",
            "orientation": "horizontal",
            "min": 0,
            "description_tooltip": null,
            "_model_module": "@jupyter-widgets/controls",
            "layout": "IPY_MODEL_0ded8a4756b44261ab2135146a971fc6"
          }
        },
        "3dfb878229c24f39b97e37efa7fdd8af": {
          "model_module": "@jupyter-widgets/controls",
          "model_name": "HTMLModel",
          "state": {
            "_view_name": "HTMLView",
            "style": "IPY_MODEL_b5ce3a9b8cfb46d18924ad3638e5a7c0",
            "_dom_classes": [],
            "description": "",
            "_model_name": "HTMLModel",
            "placeholder": "​",
            "_view_module": "@jupyter-widgets/controls",
            "_model_module_version": "1.5.0",
            "value": " 0/3 [00:00&lt;?, ?it/s]",
            "_view_count": null,
            "_view_module_version": "1.5.0",
            "description_tooltip": null,
            "_model_module": "@jupyter-widgets/controls",
            "layout": "IPY_MODEL_54b22691116b41d18290c11936c68270"
          }
        },
        "fa686be7ae3241e6a6668ff1640939cd": {
          "model_module": "@jupyter-widgets/controls",
          "model_name": "ProgressStyleModel",
          "state": {
            "_view_name": "StyleView",
            "_model_name": "ProgressStyleModel",
            "description_width": "initial",
            "_view_module": "@jupyter-widgets/base",
            "_model_module_version": "1.5.0",
            "_view_count": null,
            "_view_module_version": "1.2.0",
            "bar_color": null,
            "_model_module": "@jupyter-widgets/controls"
          }
        },
        "0ded8a4756b44261ab2135146a971fc6": {
          "model_module": "@jupyter-widgets/base",
          "model_name": "LayoutModel",
          "state": {
            "_view_name": "LayoutView",
            "grid_template_rows": null,
            "right": null,
            "justify_content": null,
            "_view_module": "@jupyter-widgets/base",
            "overflow": null,
            "_model_module_version": "1.2.0",
            "_view_count": null,
            "flex_flow": null,
            "width": null,
            "min_width": null,
            "border": null,
            "align_items": null,
            "bottom": null,
            "_model_module": "@jupyter-widgets/base",
            "top": null,
            "grid_column": null,
            "overflow_y": null,
            "overflow_x": null,
            "grid_auto_flow": null,
            "grid_area": null,
            "grid_template_columns": null,
            "flex": null,
            "_model_name": "LayoutModel",
            "justify_items": null,
            "grid_row": null,
            "max_height": null,
            "align_content": null,
            "visibility": null,
            "align_self": null,
            "height": null,
            "min_height": null,
            "padding": null,
            "grid_auto_rows": null,
            "grid_gap": null,
            "max_width": null,
            "order": null,
            "_view_module_version": "1.2.0",
            "grid_template_areas": null,
            "object_position": null,
            "object_fit": null,
            "grid_auto_columns": null,
            "margin": null,
            "display": null,
            "left": null
          }
        },
        "b5ce3a9b8cfb46d18924ad3638e5a7c0": {
          "model_module": "@jupyter-widgets/controls",
          "model_name": "DescriptionStyleModel",
          "state": {
            "_view_name": "StyleView",
            "_model_name": "DescriptionStyleModel",
            "description_width": "",
            "_view_module": "@jupyter-widgets/base",
            "_model_module_version": "1.5.0",
            "_view_count": null,
            "_view_module_version": "1.2.0",
            "_model_module": "@jupyter-widgets/controls"
          }
        },
        "54b22691116b41d18290c11936c68270": {
          "model_module": "@jupyter-widgets/base",
          "model_name": "LayoutModel",
          "state": {
            "_view_name": "LayoutView",
            "grid_template_rows": null,
            "right": null,
            "justify_content": null,
            "_view_module": "@jupyter-widgets/base",
            "overflow": null,
            "_model_module_version": "1.2.0",
            "_view_count": null,
            "flex_flow": null,
            "width": null,
            "min_width": null,
            "border": null,
            "align_items": null,
            "bottom": null,
            "_model_module": "@jupyter-widgets/base",
            "top": null,
            "grid_column": null,
            "overflow_y": null,
            "overflow_x": null,
            "grid_auto_flow": null,
            "grid_area": null,
            "grid_template_columns": null,
            "flex": null,
            "_model_name": "LayoutModel",
            "justify_items": null,
            "grid_row": null,
            "max_height": null,
            "align_content": null,
            "visibility": null,
            "align_self": null,
            "height": null,
            "min_height": null,
            "padding": null,
            "grid_auto_rows": null,
            "grid_gap": null,
            "max_width": null,
            "order": null,
            "_view_module_version": "1.2.0",
            "grid_template_areas": null,
            "object_position": null,
            "object_fit": null,
            "grid_auto_columns": null,
            "margin": null,
            "display": null,
            "left": null
          }
        }
      }
    }
  },
  "cells": [
    {
      "cell_type": "markdown",
      "metadata": {
        "id": "view-in-github",
        "colab_type": "text"
      },
      "source": [
        "<a href=\"https://colab.research.google.com/github/arohanajit/ecg-covid/blob/main/Untitled14.ipynb\" target=\"_parent\"><img src=\"https://colab.research.google.com/assets/colab-badge.svg\" alt=\"Open In Colab\"/></a>"
      ]
    },
    {
      "cell_type": "code",
      "metadata": {
        "colab": {
          "base_uri": "https://localhost:8080/"
        },
        "id": "jf8395pENZM1",
        "outputId": "231e0e88-b918-452b-9ee5-079d77b34e42"
      },
      "source": [
        "import os\n",
        "import numpy as np\n",
        "import pandas as pd\n",
        "import matplotlib.pyplot as plt\n",
        "import torch\n",
        "import torch.nn as nn\n",
        "import torch.nn.functional as F\n",
        "from torchsummary import summary\n",
        "from torch import optim\n",
        "from torch.utils.data import DataLoader, TensorDataset, random_split\n",
        "from torch.utils.data.sampler import SubsetRandomSampler\n",
        "from torchvision.datasets import ImageFolder\n",
        "import torchvision.transforms as transforms\n",
        "from sklearn.model_selection import train_test_split, KFold\n",
        "from sklearn.preprocessing import MinMaxScaler\n",
        "from sklearn.metrics import accuracy_score\n",
        "from tqdm import tqdm_notebook\n",
        "import torchvision\n",
        "import shutil\n",
        "train_on_gpu = torch.cuda.is_available()\n",
        "device = torch.device(\"cuda\" if torch.cuda.is_available() else \"cpu\")\n",
        "print(train_on_gpu)"
      ],
      "execution_count": 1,
      "outputs": [
        {
          "output_type": "stream",
          "text": [
            "True\n"
          ],
          "name": "stdout"
        }
      ]
    },
    {
      "cell_type": "code",
      "metadata": {
        "id": "WvzhrAf0NaTM"
      },
      "source": [
        "# from google.colab import drive\n",
        "# drive.mount('content/')"
      ],
      "execution_count": 2,
      "outputs": []
    },
    {
      "cell_type": "code",
      "metadata": {
        "id": "0TOo-QEfNdgh"
      },
      "source": [
        "# %%capture\n",
        "# !mkdir data\n",
        "# !unzip content/MyDrive/datasets/ecg.zip -d data/\n",
        "# shutil.rmtree(\"data/ECG Images of Myocardial Infarction Patients (77)\")\n",
        "# shutil.rmtree(\"data/ECG Images of Patient that have abnormal heart beats (548)\")\n",
        "# shutil.rmtree(\"data/ECG Images of Patient that have History of MI (203)\")"
      ],
      "execution_count": 3,
      "outputs": []
    },
    {
      "cell_type": "code",
      "metadata": {
        "id": "fOqc7_s9Nr_h"
      },
      "source": [
        "data_transforms = transforms.Compose([\n",
        "    transforms.Resize((1000,1000)),\n",
        "    transforms.ToTensor()\n",
        "    ])"
      ],
      "execution_count": 4,
      "outputs": []
    },
    {
      "cell_type": "code",
      "metadata": {
        "id": "CPpIUrbHNvgq"
      },
      "source": [
        "\n",
        "data = ImageFolder('data/',transform=data_transforms)"
      ],
      "execution_count": 5,
      "outputs": []
    },
    {
      "cell_type": "code",
      "metadata": {
        "colab": {
          "base_uri": "https://localhost:8080/"
        },
        "id": "5FMz6taSNyER",
        "outputId": "95358dde-a9ff-464d-cc3d-eb64831e6f33"
      },
      "source": [
        "\n",
        "test_size = 0.2\n",
        "print(len(data))\n",
        "num_train = len(data)\n",
        "indices = list(range(num_train))\n",
        "np.random.shuffle(indices)\n",
        "test_split = int(np.floor((test_size) * num_train))\n",
        "test_idx, train_idx = indices[:test_split], indices[test_split:]\n",
        "\n",
        "print(len(test_idx), len(train_idx))\n",
        "\n",
        "# define samplers for obtaining training and validation batches\n",
        "train_sampler = SubsetRandomSampler(train_idx)\n",
        "test_sampler = SubsetRandomSampler(test_idx)\n",
        "\n",
        "\n",
        "loaders = {\n",
        "    'train': torch.utils.data.DataLoader(data, batch_size=10, sampler=train_sampler),\n",
        "    'test': torch.utils.data.DataLoader(data, batch_size=10, sampler=test_sampler)\n",
        "}"
      ],
      "execution_count": 6,
      "outputs": [
        {
          "output_type": "stream",
          "text": [
            "1109\n",
            "221 888\n"
          ],
          "name": "stdout"
        }
      ]
    },
    {
      "cell_type": "code",
      "metadata": {
        "id": "FN5Ii_RNOI0Y"
      },
      "source": [
        "vgg16 = torchvision.models.vgg16(pretrained=True)\n",
        "for param in vgg16.features.parameters():\n",
        "    param.requires_grad = False\n",
        "num_ftrs = vgg16.classifier[6].in_features\n",
        "vgg16.classifier[6] = nn.Linear(num_ftrs, 2)\n",
        "vgg16 = vgg16.to(device)\n",
        "criterion = nn.CrossEntropyLoss()\n",
        "optimizer = optim.Adam(vgg16.parameters(), lr=0.001)"
      ],
      "execution_count": 7,
      "outputs": []
    },
    {
      "cell_type": "code",
      "metadata": {
        "id": "BRV-4K8aYv_g"
      },
      "source": [
        "def Graphing(train,test):\n",
        "    plt.plot(train)\n",
        "    plt.plot(test)\n",
        "    plt.legend(['Train Loss','Validation Loss'])"
      ],
      "execution_count": 8,
      "outputs": []
    },
    {
      "cell_type": "code",
      "metadata": {
        "id": "FqREZy8NOW2C"
      },
      "source": [
        "from PIL import ImageFile\n",
        "ImageFile.LOAD_TRUNCATED_IMAGES = True\n",
        "from tqdm.notebook import tqdm\n",
        "\n",
        "def train(n_epochs, loaders, model, optimizer, criterion, train_on_gpu, save_path):\n",
        "    \"\"\"returns trained model\"\"\"\n",
        "    # initialize tracker for minimum validation loss\n",
        "    valid_loss_min = np.Inf \n",
        "    train = []\n",
        "    test = []\n",
        "    correct,total = 0,0\n",
        "    \n",
        "    for epoch in tqdm(range(1, n_epochs+1)):\n",
        "        # initialize variables to monitor training and validation loss\n",
        "        train_loss = 0.0\n",
        "        valid_loss = 0.0\n",
        "        valid_min = 9999\n",
        "        ###################\n",
        "        # train the model #\n",
        "        ###################\n",
        "        model.train()\n",
        "        for batch_idx, (input, target) in enumerate(loaders['train']):\n",
        "            # move to GPU\n",
        "            if train_on_gpu:\n",
        "                input, target = input.cuda(), target.cuda()\n",
        "            ## find the loss and update the model parameters accordingly\n",
        "            ## record the average training loss, using something like\n",
        "            ## train_loss = train_loss + ((1 / (batch_idx + 1)) * (loss.data - train_loss))\n",
        "            optimizer.zero_grad()\n",
        "            out = model(input)\n",
        "            loss = criterion(out,target)\n",
        "            loss.backward()\n",
        "            optimizer.step()\n",
        "            train_loss = train_loss + ((1 / (batch_idx + 1)) * (loss.data - train_loss))\n",
        "            if batch_idx%20==0:\n",
        "                print('Batch: {}\\tEpoch: {} \\tTraining Loss: {:.6f}'.format(\n",
        "                batch_idx,\n",
        "                epoch, \n",
        "                train_loss\n",
        "                ))\n",
        "\n",
        "\n",
        "\n",
        "        ######################    \n",
        "        # validate the model #\n",
        "        ######################\n",
        "        model.eval()\n",
        "        correct, total = 0, 0\n",
        "        for batch_idx, (input, target) in enumerate(loaders['test']):\n",
        "            # move to GPU\n",
        "            if train_on_gpu:\n",
        "                input, target = input.cuda(), target.cuda()\n",
        "            output = model(input)\n",
        "            loss = criterion(output,target)\n",
        "            valid_loss = valid_loss + ((1 / (batch_idx + 1)) * (loss.data - valid_loss))\n",
        "            _, predicted = torch.max(output.data, 1)\n",
        "            total += target.size(0)\n",
        "            correct += (predicted == target).sum().item()\n",
        "\n",
        "            ## update the average validation loss\n",
        "\n",
        "            \n",
        "        train.append(train_loss)\n",
        "        test.append (valid_loss)\n",
        "        # print training/validation statistics \n",
        "        print('Epoch: {} \\tTraining Loss: {:.6f} \\tValidation Loss: {:.6f} \\tAccuracy: {:.6f}'.format(\n",
        "            epoch, \n",
        "            train_loss,\n",
        "            valid_loss,\n",
        "            correct/total\n",
        "            ))\n",
        "        if valid_loss <= valid_loss_min:\n",
        "            print('Validation loss decreased ({:.6f} --> {:.6f}).  Saving model ...'.format(\n",
        "            valid_loss_min,\n",
        "            valid_loss))\n",
        "            torch.save(model.state_dict(), save_path)\n",
        "            valid_loss_min = valid_loss\n",
        "        \n",
        "        \n",
        "    print(f\"FOLD ACCURACY : {correct/total}\")\n",
        "    # return trained model\n",
        "    # Graphing(train,test)\n",
        "    return model\n",
        "\n",
        "\n",
        "# # train the model\n",
        "# train(3, loaders, vgg16, optimizer, criterion, train_on_gpu, 'model.pt')\n",
        "\n",
        "# # load the model that got the best validation accuracy\n",
        "# vgg16.load_state_dict(torch.load('model.pt'))"
      ],
      "execution_count": 9,
      "outputs": []
    },
    {
      "cell_type": "code",
      "metadata": {
        "colab": {
          "base_uri": "https://localhost:8080/",
          "height": 203,
          "referenced_widgets": [
            "abcf4125cf464812a45f811cd2f20f64",
            "fa1f9a41ec574bedbf4f17e50ceec1c3",
            "a5c0f58d8660403abf6eb7a2b57a68ff",
            "3dfb878229c24f39b97e37efa7fdd8af",
            "fa686be7ae3241e6a6668ff1640939cd",
            "0ded8a4756b44261ab2135146a971fc6",
            "b5ce3a9b8cfb46d18924ad3638e5a7c0",
            "54b22691116b41d18290c11936c68270"
          ]
        },
        "id": "5D2-HnvbY4AJ",
        "outputId": "abdf8f7d-d4c7-4505-9595-60cae057bcaa"
      },
      "source": [
        "results = {}\n",
        "kfold = KFold(n_splits=3,shuffle=False)\n",
        "for fold,(train_idx,test_idx) in enumerate(kfold.split(data)):\n",
        "    print(f'FOLD {fold}')\n",
        "    print('--------------------------------')\n",
        "\n",
        "\n",
        "    train_sampler = SubsetRandomSampler(train_idx)\n",
        "    test_sampler = SubsetRandomSampler(test_idx)\n",
        "    loaders = {\n",
        "    'train': torch.utils.data.DataLoader(data, batch_size=10, sampler=train_sampler),\n",
        "    'test': torch.utils.data.DataLoader(data, batch_size=10, sampler=test_sampler)\n",
        "    }\n",
        "    vgg16 = torchvision.models.vgg16(pretrained=True)\n",
        "    for param in vgg16.parameters():\n",
        "        param.requires_grad = False\n",
        "    num_ftrs = vgg16.classifier[6].in_features\n",
        "    vgg16.classifier[6] = nn.Linear(num_ftrs, 2)\n",
        "    vgg16 = vgg16.to(device)\n",
        "    criterion = nn.CrossEntropyLoss()\n",
        "    optimizer = optim.Adam(vgg16.parameters(), lr=0.001)\n",
        "    train(3, loaders, vgg16, optimizer, criterion, train_on_gpu, 'model.pt')\n",
        "    vgg16.load_state_dict(torch.load('model.pt'))"
      ],
      "execution_count": null,
      "outputs": [
        {
          "output_type": "stream",
          "text": [
            "FOLD 0\n",
            "--------------------------------\n"
          ],
          "name": "stdout"
        },
        {
          "output_type": "display_data",
          "data": {
            "application/vnd.jupyter.widget-view+json": {
              "model_id": "abcf4125cf464812a45f811cd2f20f64",
              "version_minor": 0,
              "version_major": 2
            },
            "text/plain": [
              "HBox(children=(FloatProgress(value=0.0, max=3.0), HTML(value='')))"
            ]
          },
          "metadata": {
            "tags": []
          }
        },
        {
          "output_type": "stream",
          "text": [
            "/usr/local/lib/python3.7/dist-packages/torch/nn/functional.py:718: UserWarning: Named tensors and all their associated APIs are an experimental feature and subject to change. Please do not use them for anything important until they are released as stable. (Triggered internally at  /pytorch/c10/core/TensorImpl.h:1156.)\n",
            "  return torch.max_pool2d(input, kernel_size, stride, padding, dilation, ceil_mode)\n"
          ],
          "name": "stderr"
        },
        {
          "output_type": "stream",
          "text": [
            "Batch: 0\tEpoch: 1 \tTraining Loss: 0.691207\n",
            "Batch: 20\tEpoch: 1 \tTraining Loss: 0.053057\n",
            "Batch: 40\tEpoch: 1 \tTraining Loss: 0.027188\n",
            "Batch: 60\tEpoch: 1 \tTraining Loss: 0.018279\n"
          ],
          "name": "stdout"
        }
      ]
    }
  ]
}